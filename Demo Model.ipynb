{
 "cells": [
  {
   "cell_type": "markdown",
   "metadata": {},
   "source": [
    "# Demo Model"
   ]
  },
  {
   "cell_type": "code",
   "execution_count": 73,
   "metadata": {},
   "outputs": [],
   "source": [
    "import pandas as pd\n",
    "import numpy as np\n",
    "import statistics as st\n",
    "from numpy.random import normal"
   ]
  },
  {
   "cell_type": "code",
   "execution_count": null,
   "metadata": {},
   "outputs": [],
   "source": []
  },
  {
   "cell_type": "markdown",
   "metadata": {},
   "source": [
    "# Preparing Dataset\n",
    " Taking necessary features\n"
   ]
  },
  {
   "cell_type": "code",
   "execution_count": 23,
   "metadata": {},
   "outputs": [],
   "source": [
    "players_gl = ['AJ Finch','BB McCullum','SK Raina','KD Karthik','DJ Bravo','RA Jadeja','AD Nath','DW Steyn','P Kumar']\n",
    "players_srh = ['DA Warner','S Dhawan']"
   ]
  },
  {
   "cell_type": "code",
   "execution_count": 24,
   "metadata": {},
   "outputs": [],
   "source": [
    "predict_id = 1260"
   ]
  },
  {
   "cell_type": "code",
   "execution_count": 25,
   "metadata": {},
   "outputs": [],
   "source": [
    "previd_gl = [1242,1248]"
   ]
  },
  {
   "cell_type": "code",
   "execution_count": 26,
   "metadata": {},
   "outputs": [],
   "source": [
    "previd_srh = [1244,1252]"
   ]
  },
  {
   "cell_type": "code",
   "execution_count": 27,
   "metadata": {},
   "outputs": [],
   "source": [
    "gl_pd = pd.DataFrame()\n",
    "srh_pd = pd.DataFrame()\n"
   ]
  },
  {
   "cell_type": "code",
   "execution_count": 28,
   "metadata": {},
   "outputs": [],
   "source": [
    "def prepare_data(mid,df,name):\n",
    "    \n",
    "    ds = []\n",
    "    \n",
    "    ds.append(mid)\n",
    "    ds.append(name)\n",
    "    \n",
    "    cols = ['runs','balls','strike_rate','fours','sixes']\n",
    "    \n",
    "    if (df.match==mid).any():\n",
    "        dff = df[df.match==mid]\n",
    "        for i in cols:\n",
    "            ds.append(int(dff[i]) )\n",
    "    else:\n",
    "        for i in cols:\n",
    "            ds.append(0)\n",
    "    \n",
    "    fds = pd.DataFrame(data=[ds],columns=['match_id','name','runs','balls','strike_rate','fours','sixes'])\n",
    "    \n",
    "    return fds"
   ]
  },
  {
   "cell_type": "code",
   "execution_count": 29,
   "metadata": {},
   "outputs": [],
   "source": [
    "Run=1\n",
    "Boundary=1\n",
    "Six=2\n",
    "Half=8\n",
    "Century=16\n",
    "Duck=-2"
   ]
  },
  {
   "cell_type": "code",
   "execution_count": 43,
   "metadata": {},
   "outputs": [],
   "source": [
    "loc = r\"D:\\arbunize\\ipl_dataset\\batsmen_ipl\\\\\""
   ]
  },
  {
   "cell_type": "code",
   "execution_count": 44,
   "metadata": {},
   "outputs": [],
   "source": [
    "players = {}"
   ]
  },
  {
   "cell_type": "code",
   "execution_count": 46,
   "metadata": {},
   "outputs": [
    {
     "name": "stdout",
     "output_type": "stream",
     "text": [
      "AJ Finch 1242\n",
      "AJ Finch 1248\n",
      "BB McCullum 1242\n",
      "BB McCullum 1248\n",
      "SK Raina 1242\n",
      "SK Raina 1248\n",
      "KD Karthik 1242\n",
      "KD Karthik 1248\n",
      "DJ Bravo 1242\n",
      "DJ Bravo 1248\n",
      "RA Jadeja 1242\n",
      "RA Jadeja 1248\n",
      "AD Nath 1242\n",
      "AD Nath 1248\n",
      "DW Steyn 1242\n",
      "DW Steyn 1248\n",
      "P Kumar 1242\n",
      "P Kumar 1248\n"
     ]
    }
   ],
   "source": [
    "for name in players_gl:\n",
    "    \n",
    "    df = pd.DataFrame(columns=['match_id','name','runs','balls','strike_rate','fours','sixes'])\n",
    "    \n",
    "    for mid in previd_gl:\n",
    "        \n",
    "        floc = loc    + name +\".csv\"\n",
    "        #rfloc = r'{}'.format(floc)\n",
    "        d = pd.read_csv(floc)\n",
    "        #print(d['match'])\n",
    "        print(name,mid)\n",
    "        df = df.append( prepare_data(mid,d,name) , ignore_index=True )\n",
    "     \n",
    "    \n",
    "    players[name] = df\n",
    "    \n",
    "        \n",
    "        \n",
    "        \n",
    "        "
   ]
  },
  {
   "cell_type": "code",
   "execution_count": 47,
   "metadata": {},
   "outputs": [
    {
     "name": "stdout",
     "output_type": "stream",
     "text": [
      "AJ Finch\n",
      "BB McCullum\n",
      "SK Raina\n",
      "KD Karthik\n",
      "DJ Bravo\n",
      "RA Jadeja\n",
      "AD Nath\n",
      "DW Steyn\n",
      "P Kumar\n"
     ]
    }
   ],
   "source": [
    "for i in players.keys():\n",
    "    print(i)"
   ]
  },
  {
   "cell_type": "code",
   "execution_count": 48,
   "metadata": {},
   "outputs": [
    {
     "name": "stdout",
     "output_type": "stream",
     "text": [
      "DA Warner 1244\n",
      "DA Warner 1252\n",
      "S Dhawan 1244\n",
      "S Dhawan 1252\n"
     ]
    }
   ],
   "source": [
    "for name in players_srh:\n",
    "    \n",
    "    df = pd.DataFrame(columns=['match_id','name','runs','balls','strike_rate','fours','sixes'])\n",
    "    \n",
    "    for mid in previd_srh:\n",
    "        \n",
    "        floc = loc   + name +\".csv\"\n",
    "        #rfloc = r'{}'.format(floc)\n",
    "        d = pd.read_csv(floc)\n",
    "        #print(d['match'])\n",
    "        print(name,mid)\n",
    "        df = df.append( prepare_data(mid,d,name) , ignore_index=True )\n",
    "     \n",
    "    \n",
    "    players[name] = df"
   ]
  },
  {
   "cell_type": "code",
   "execution_count": 49,
   "metadata": {},
   "outputs": [
    {
     "name": "stdout",
     "output_type": "stream",
     "text": [
      "AJ Finch\n",
      "BB McCullum\n",
      "SK Raina\n",
      "KD Karthik\n",
      "DJ Bravo\n",
      "RA Jadeja\n",
      "AD Nath\n",
      "DW Steyn\n",
      "P Kumar\n",
      "DA Warner\n",
      "S Dhawan\n"
     ]
    }
   ],
   "source": [
    "for i in players.keys():\n",
    "    print(i)"
   ]
  },
  {
   "cell_type": "markdown",
   "metadata": {},
   "source": [
    "# Fantasy Pts Calculation\n",
    "## From necessary features"
   ]
  },
  {
   "cell_type": "code",
   "execution_count": 98,
   "metadata": {},
   "outputs": [],
   "source": [
    "def calc_fantasy_pts(players,n):\n",
    "    fpts_dict = {}\n",
    "    for i in players.values():\n",
    "        fp=[]\n",
    "        for j in range(n):\n",
    "            \n",
    "            fpts =0 \n",
    "            fpts+=int(i['runs'][j])\n",
    "            fpts+=int(i['fours'][j])\n",
    "            \n",
    "            fpts+=2*int(i['sixes'][j])\n",
    "            \n",
    "            if int(i['runs'][j])>=50:\n",
    "                fpts+=8\n",
    "            if int(i['runs'][j])>=100:\n",
    "                fpts+=16\n",
    "            if int(i['runs'][j])==0 and int(i['balls'][j])!=0:\n",
    "                fpts-=2\n",
    "            fp.append(fpts)\n",
    "            \n",
    "        fpts_dict[str(i['name'][0])] = fp\n",
    "    return fpts_dict\n",
    "        \n",
    "            \n",
    "    "
   ]
  },
  {
   "cell_type": "code",
   "execution_count": 99,
   "metadata": {},
   "outputs": [],
   "source": [
    "fpts_dict = calc_fantasy_pts(players,2)"
   ]
  },
  {
   "cell_type": "code",
   "execution_count": 100,
   "metadata": {},
   "outputs": [
    {
     "name": "stdout",
     "output_type": "stream",
     "text": [
      "[94, 69]\n",
      "[-2, 58]\n",
      "[25, 25]\n",
      "[48, 0]\n",
      "[2, 27]\n",
      "[8, 4]\n",
      "[0, 0]\n",
      "[0, 0]\n",
      "[0, 0]\n",
      "[80, 15]\n",
      "[9, 7]\n"
     ]
    }
   ],
   "source": [
    "for i in fpts_dict.values():\n",
    "    print(i)"
   ]
  },
  {
   "cell_type": "markdown",
   "metadata": {},
   "source": [
    "# Monte Carlo Simulations For Calculating Multiple Fantasy Pts"
   ]
  },
  {
   "cell_type": "code",
   "execution_count": 101,
   "metadata": {},
   "outputs": [],
   "source": [
    "def simulation_pts(fpts_dict):\n",
    "    sim_pts = {}\n",
    "    p = list(fpts_dict.keys())\n",
    "    i=0\n",
    "    for j in fpts_dict.values():\n",
    "        mu = st.mean(j)\n",
    "        sig = st.stdev(j)\n",
    "        fpts = normal(mu,sig,100)\n",
    "        sim_pts[p[i]] = fpts\n",
    "        i+=1\n",
    "    return sim_pts\n",
    "        "
   ]
  },
  {
   "cell_type": "code",
   "execution_count": 102,
   "metadata": {},
   "outputs": [],
   "source": [
    "sim_pts = simulation_pts(fpts_dict)"
   ]
  },
  {
   "cell_type": "code",
   "execution_count": 116,
   "metadata": {},
   "outputs": [],
   "source": [
    "#for i in sim_pts.values():\n",
    "    #print(i[0])"
   ]
  },
  {
   "cell_type": "code",
   "execution_count": 123,
   "metadata": {},
   "outputs": [],
   "source": [
    "plyr = list(sim_pts.keys())"
   ]
  },
  {
   "cell_type": "markdown",
   "metadata": {},
   "source": [
    "\n",
    "# Optimizing the Result to obtain Probabilities"
   ]
  },
  {
   "cell_type": "code",
   "execution_count": 105,
   "metadata": {},
   "outputs": [],
   "source": [
    "def optimize(sim_pts):\n",
    "    ind=[]\n",
    "    for i in range(100):\n",
    "        pts = []\n",
    "        for j in sim_pts.values():\n",
    "            pts.append(j[i])\n",
    "        pts = np.array(pts)\n",
    "        ind.append( pts.argsort()[-3:][::-1] )\n",
    "    return ind    \n",
    "        \n",
    "        "
   ]
  },
  {
   "cell_type": "code",
   "execution_count": 106,
   "metadata": {},
   "outputs": [],
   "source": [
    "ind = optimize(sim_pts)"
   ]
  },
  {
   "cell_type": "code",
   "execution_count": 107,
   "metadata": {},
   "outputs": [
    {
     "data": {
      "text/plain": [
       "'[0, 1, 2]'"
      ]
     },
     "execution_count": 107,
     "metadata": {},
     "output_type": "execute_result"
    }
   ],
   "source": [
    "str(list(ind[0]))"
   ]
  },
  {
   "cell_type": "code",
   "execution_count": 108,
   "metadata": {},
   "outputs": [],
   "source": [
    "dict_ind ={}\n",
    "for i in ind:\n",
    "    if str(list(i)) in dict_ind.keys():\n",
    "        dict_ind[str(list(i) )]+=1\n",
    "    else:\n",
    "        dict_ind[str(list(i))]=1"
   ]
  },
  {
   "cell_type": "code",
   "execution_count": 109,
   "metadata": {},
   "outputs": [
    {
     "data": {
      "text/plain": [
       "{'[0, 1, 2]': 6,\n",
       " '[0, 9, 2]': 11,\n",
       " '[9, 0, 3]': 13,\n",
       " '[0, 9, 4]': 3,\n",
       " '[0, 1, 9]': 9,\n",
       " '[0, 4, 2]': 4,\n",
       " '[0, 3, 1]': 6,\n",
       " '[0, 9, 3]': 4,\n",
       " '[3, 9, 0]': 1,\n",
       " '[3, 1, 0]': 1,\n",
       " '[0, 3, 4]': 2,\n",
       " '[0, 1, 4]': 1,\n",
       " '[1, 0, 3]': 5,\n",
       " '[0, 2, 1]': 1,\n",
       " '[3, 0, 1]': 1,\n",
       " '[0, 1, 3]': 4,\n",
       " '[0, 2, 4]': 1,\n",
       " '[0, 3, 9]': 1,\n",
       " '[9, 0, 1]': 3,\n",
       " '[0, 9, 1]': 5,\n",
       " '[9, 0, 2]': 5,\n",
       " '[0, 3, 2]': 2,\n",
       " '[9, 3, 1]': 1,\n",
       " '[0, 2, 3]': 2,\n",
       " '[3, 0, 2]': 2,\n",
       " '[1, 0, 9]': 2,\n",
       " '[0, 2, 10]': 1,\n",
       " '[1, 0, 2]': 1,\n",
       " '[9, 0, 4]': 1,\n",
       " '[9, 3, 0]': 1}"
      ]
     },
     "execution_count": 109,
     "metadata": {},
     "output_type": "execute_result"
    }
   ],
   "source": [
    "dict_ind"
   ]
  },
  {
   "cell_type": "markdown",
   "metadata": {},
   "source": [
    "# Name of predicted players"
   ]
  },
  {
   "cell_type": "code",
   "execution_count": 117,
   "metadata": {},
   "outputs": [
    {
     "name": "stdout",
     "output_type": "stream",
     "text": [
      "AJ Finch DA Warner SK Raina\n"
     ]
    }
   ],
   "source": [
    "# RESULT\n",
    "print(plyr[0],plyr[9],plyr[2])"
   ]
  },
  {
   "cell_type": "markdown",
   "metadata": {},
   "source": [
    "# Checking Actual Results"
   ]
  },
  {
   "cell_type": "code",
   "execution_count": 112,
   "metadata": {},
   "outputs": [
    {
     "name": "stdout",
     "output_type": "stream",
     "text": [
      "AJ Finch 1260\n",
      "BB McCullum 1260\n",
      "SK Raina 1260\n",
      "KD Karthik 1260\n",
      "DJ Bravo 1260\n",
      "RA Jadeja 1260\n",
      "AD Nath 1260\n",
      "DW Steyn 1260\n",
      "P Kumar 1260\n",
      "DA Warner 1260\n",
      "S Dhawan 1260\n"
     ]
    }
   ],
   "source": [
    "fplyr={}\n",
    "for name in plyr:\n",
    "    \n",
    "    df = pd.DataFrame(columns=['match_id','name','runs','balls','strike_rate','fours','sixes'])\n",
    "    \n",
    "    for mid in [predict_id]:\n",
    "        \n",
    "        floc = loc    + name +\".csv\"\n",
    "        #rfloc = r'{}'.format(floc)\n",
    "        d = pd.read_csv(floc)\n",
    "        #print(d['match'])\n",
    "        print(name,mid)\n",
    "        df = df.append( prepare_data(mid,d,name) , ignore_index=True )\n",
    "     \n",
    "    \n",
    "    fplyr[name] = df\n",
    "    "
   ]
  },
  {
   "cell_type": "code",
   "execution_count": 114,
   "metadata": {},
   "outputs": [],
   "source": [
    "fpts = calc_fantasy_pts(fplyr,1)"
   ]
  },
  {
   "cell_type": "code",
   "execution_count": 115,
   "metadata": {},
   "outputs": [
    {
     "data": {
      "text/plain": [
       "{'AJ Finch': [-2],\n",
       " 'BB McCullum': [21],\n",
       " 'SK Raina': [92],\n",
       " 'KD Karthik': [9],\n",
       " 'DJ Bravo': [8],\n",
       " 'RA Jadeja': [14],\n",
       " 'AD Nath': [5],\n",
       " 'DW Steyn': [1],\n",
       " 'P Kumar': [1],\n",
       " 'DA Warner': [91],\n",
       " 'S Dhawan': [66]}"
      ]
     },
     "execution_count": 115,
     "metadata": {},
     "output_type": "execute_result"
    }
   ],
   "source": [
    "fpts"
   ]
  },
  {
   "cell_type": "code",
   "execution_count": 119,
   "metadata": {},
   "outputs": [
    {
     "data": {
      "text/plain": [
       "[2, 9, 10]"
      ]
     },
     "execution_count": 119,
     "metadata": {},
     "output_type": "execute_result"
    }
   ],
   "source": [
    "# Final Result\n",
    "[2,9,10]"
   ]
  },
  {
   "cell_type": "code",
   "execution_count": 120,
   "metadata": {},
   "outputs": [
    {
     "data": {
      "text/plain": [
       "[0, 2, 9]"
      ]
     },
     "execution_count": 120,
     "metadata": {},
     "output_type": "execute_result"
    }
   ],
   "source": [
    "#Predicted Result\n",
    "[0,2,9]"
   ]
  },
  {
   "cell_type": "markdown",
   "metadata": {},
   "source": [
    "# Two Correctly Predicted"
   ]
  },
  {
   "cell_type": "code",
   "execution_count": null,
   "metadata": {},
   "outputs": [],
   "source": []
  }
 ],
 "metadata": {
  "kernelspec": {
   "display_name": "Python 3",
   "language": "python",
   "name": "python3"
  }
 },
 "nbformat": 4,
 "nbformat_minor": 2
}
